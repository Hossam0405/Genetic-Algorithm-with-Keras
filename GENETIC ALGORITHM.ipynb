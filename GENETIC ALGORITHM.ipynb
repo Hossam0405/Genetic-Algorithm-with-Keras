{
 "cells": [
  {
   "cell_type": "code",
   "execution_count": 101,
   "id": "0f8904c7",
   "metadata": {},
   "outputs": [],
   "source": [
    "import pygad\n",
    "import numpy\n",
    "import tensorflow as tf\n",
    "import matplotlib.pyplot as plt"
   ]
  },
  {
   "cell_type": "markdown",
   "id": "5217067a",
   "metadata": {},
   "source": [
    "## Creating a Neural Network"
   ]
  },
  {
   "cell_type": "code",
   "execution_count": 70,
   "id": "41dee694",
   "metadata": {},
   "outputs": [],
   "source": [
    "model = tf.keras.Sequential([\n",
    "    tf.keras.layers.Input(shape=[2]),\n",
    "    tf.keras.layers.Dense(100, activation=\"swish\", kernel_initializer=\"he_normal\"),\n",
    "    tf.keras.layers.Dense(100, activation=\"swish\", kernel_initializer=\"he_normal\"),\n",
    "    tf.keras.layers.Dense(100, activation=\"swish\", kernel_initializer=\"he_normal\"),\n",
    "    tf.keras.layers.Dense(2, activation=\"softmax\")\n",
    "])"
   ]
  },
  {
   "cell_type": "markdown",
   "id": "5950a86f",
   "metadata": {},
   "source": [
    "## Creating Genetic Algorithm"
   ]
  },
  {
   "cell_type": "code",
   "execution_count": 71,
   "id": "e3269dc4",
   "metadata": {},
   "outputs": [],
   "source": [
    "import pygad.kerasga\n",
    "\n",
    "keras_ga = pygad.kerasga.KerasGA(model=model,\n",
    "                                 num_solutions=10)\n",
    "\n",
    "initial_population = keras_ga.population_weights"
   ]
  },
  {
   "cell_type": "code",
   "execution_count": 72,
   "id": "fef7a6f7",
   "metadata": {},
   "outputs": [
    {
     "data": {
      "text/plain": [
       "[array([-0.20794782, -0.15705566, -0.04976766, ...,  0.10155198,\n",
       "         0.        ,  0.        ], dtype=float32),\n",
       " array([-0.17114755, -0.54694623, -0.03478276, ...,  1.06486499,\n",
       "         0.32619249, -0.37649502]),\n",
       " array([-0.18017088,  0.44167039,  0.50293702, ...,  0.97560053,\n",
       "         0.37210358,  0.39819095]),\n",
       " array([ 0.25000349, -0.94666066, -0.6106754 , ...,  0.0648768 ,\n",
       "        -0.66279519,  0.81723916]),\n",
       " array([-0.29476845,  0.61164856, -0.55548453, ...,  0.39276894,\n",
       "         0.77983724, -0.59047188]),\n",
       " array([ 0.61526094,  0.12012379, -0.10850081, ..., -0.76550132,\n",
       "         0.12000628,  0.0287136 ]),\n",
       " array([-0.86736015, -0.81749425,  0.36116127, ..., -0.28518539,\n",
       "        -0.85677234, -0.35868747]),\n",
       " array([ 0.73352617, -1.0753494 ,  0.89204004, ..., -0.82718333,\n",
       "         0.52924702, -0.7955891 ]),\n",
       " array([-0.22064159,  0.82471713,  0.84012339, ...,  0.39199071,\n",
       "         0.95180046, -0.34981384]),\n",
       " array([-0.84284977, -0.89486349,  0.85865474, ..., -0.20811115,\n",
       "         0.14869253,  0.16103469])]"
      ]
     },
     "execution_count": 72,
     "metadata": {},
     "output_type": "execute_result"
    }
   ],
   "source": [
    "initial_population"
   ]
  },
  {
   "cell_type": "code",
   "execution_count": 73,
   "id": "8843d230",
   "metadata": {},
   "outputs": [],
   "source": [
    "# we will try a simple classification proplem\n",
    "# XOR problem inputs\n",
    "data_inputs = numpy.array([[0, 0],\n",
    "                           [0, 1],\n",
    "                           [1, 0],\n",
    "                           [1, 1]])\n",
    "\n",
    "# XOR problem outputs\n",
    "data_outputs = numpy.array([[1, 0],\n",
    "                            [0, 1],\n",
    "                            [0, 1],\n",
    "                            [1, 0]])"
   ]
  },
  {
   "cell_type": "code",
   "execution_count": 129,
   "id": "339f6a51",
   "metadata": {},
   "outputs": [],
   "source": [
    "# defining the fitness function\n",
    "def fitness_func(solution, sol_index):\n",
    "    weights_matrix = pygad.kerasga.model_weights_as_matrix(model=model,\n",
    "                                                           weights_vector=solution)\n",
    "    model.set_weights(weights = weights_matrix)\n",
    "    \n",
    "    predictions = model.predict(data_inputs)\n",
    "    \n",
    "    loss = tf.keras.losses.BinaryCrossentropy()\n",
    "    \n",
    "    solution_fitness = 1.0 / (loss(data_outputs, predictions).numpy() + 1e-8)\n",
    "    \n",
    "    return solution_fitness\n"
   ]
  },
  {
   "cell_type": "code",
   "execution_count": 87,
   "id": "2b846b8e",
   "metadata": {},
   "outputs": [],
   "source": [
    "def fitness_func(solution, sol_idx):\n",
    "    global data_inputs, data_outputs, keras_ga, model\n",
    "\n",
    "    model_weights_matrix = pygad.kerasga.model_weights_as_matrix(model=model,\n",
    "                                                                 weights_vector=solution)\n",
    "\n",
    "    model.set_weights(weights=model_weights_matrix)\n",
    "\n",
    "    predictions = model.predict(data_inputs)\n",
    "    \n",
    "    bce = tf.keras.losses.BinaryCrossentropy()\n",
    "    solution_fitness = 1.0 / (bce(data_outputs, predictions).numpy() + 0.00000001)\n",
    "\n",
    "    return solution_fitness"
   ]
  },
  {
   "cell_type": "code",
   "execution_count": 92,
   "id": "5244cef2",
   "metadata": {},
   "outputs": [],
   "source": [
    "def callback_generation(ga_instance):\n",
    "    print(\"Generation = {generation}\".format(generation=ga_instance.generations_completed))\n",
    "    print(\"Fitness    = {fitness}\".format(fitness=ga_instance.best_solution()[1]))"
   ]
  },
  {
   "cell_type": "code",
   "execution_count": 121,
   "id": "42a5337d",
   "metadata": {},
   "outputs": [],
   "source": [
    "ga_instance = pygad.GA(num_generations=20, \n",
    "                       num_parents_mating=5, \n",
    "                       initial_population=initial_population,\n",
    "                       fitness_func=fitness_func,\n",
    "                       on_generation=callback_generation)"
   ]
  },
  {
   "cell_type": "code",
   "execution_count": 122,
   "id": "57570b77",
   "metadata": {},
   "outputs": [
    {
     "name": "stdout",
     "output_type": "stream",
     "text": [
      "Generation = 1\n",
      "Fitness    = 1.45048923720466\n",
      "Generation = 2\n",
      "Fitness    = 1.45048923720466\n",
      "Generation = 3\n",
      "Fitness    = 10.747639380748828\n",
      "Generation = 4\n",
      "Fitness    = 10.747639380748828\n",
      "Generation = 5\n",
      "Fitness    = 10.747639380748828\n",
      "Generation = 6\n",
      "Fitness    = 10.747639380748828\n",
      "Generation = 7\n",
      "Fitness    = 10.747639380748828\n",
      "Generation = 8\n",
      "Fitness    = 10.747639380748828\n",
      "Generation = 9\n",
      "Fitness    = 10.747639380748828\n",
      "Generation = 10\n",
      "Fitness    = 10.747639380748828\n",
      "Generation = 11\n",
      "Fitness    = 10.747639380748828\n",
      "Generation = 12\n",
      "Fitness    = 10.747639380748828\n",
      "Generation = 13\n",
      "Fitness    = 10.747639380748828\n",
      "Generation = 14\n",
      "Fitness    = 10.747639380748828\n",
      "Generation = 15\n",
      "Fitness    = 10.747639380748828\n",
      "Generation = 16\n",
      "Fitness    = 5095162.711194913\n",
      "Generation = 17\n",
      "Fitness    = 5095162.711194913\n",
      "Generation = 18\n",
      "Fitness    = 5095162.711194913\n",
      "Generation = 19\n",
      "Fitness    = 100000000.0\n",
      "Generation = 20\n",
      "Fitness    = 100000000.0\n"
     ]
    }
   ],
   "source": [
    "ga_instance.run()"
   ]
  },
  {
   "cell_type": "code",
   "execution_count": 123,
   "id": "bc47f01e",
   "metadata": {},
   "outputs": [
    {
     "data": {
      "image/png": "[encoded data removed]",
      "text/plain": [
       "<Figure size 640x480 with 1 Axes>"
      ]
     },
     "metadata": {},
     "output_type": "display_data"
    }
   ],
   "source": [
    "ga_instance.plot_fitness(title=\"Iteration vs. Fitness\", linewidth=4)\n",
    "plt.show()"
   ]
  },
  {
   "cell_type": "code",
   "execution_count": 124,
   "id": "8663c312",
   "metadata": {},
   "outputs": [
    {
     "name": "stdout",
     "output_type": "stream",
     "text": [
      "Fitness value of the best solution = 100000000.0\n",
      "Index of the best solution : 0\n"
     ]
    }
   ],
   "source": [
    "solution, solution_fitness, solution_idx = ga_instance.best_solution()\n",
    "print(\"Fitness value of the best solution = {solution_fitness}\".format(solution_fitness=solution_fitness))\n",
    "print(\"Index of the best solution : {solution_idx}\".format(solution_idx=solution_idx))"
   ]
  },
  {
   "cell_type": "code",
   "execution_count": 125,
   "id": "d66f4172",
   "metadata": {},
   "outputs": [],
   "source": [
    "# Fetch the parameters of the best solution.\n",
    "best_solution_weights = pygad.kerasga.model_weights_as_matrix(model=model,\n",
    "                                                              weights_vector=solution)\n",
    "model.set_weights(best_solution_weights)"
   ]
  },
  {
   "cell_type": "code",
   "execution_count": 126,
   "id": "2bb27a7a",
   "metadata": {},
   "outputs": [],
   "source": [
    "predictions = model.predict(data_inputs)"
   ]
  },
  {
   "cell_type": "code",
   "execution_count": 130,
   "id": "a1ff5681",
   "metadata": {},
   "outputs": [
    {
     "data": {
      "text/plain": [
       "array([[1.0000000e+00, 2.2676734e-11],\n",
       "       [6.4408202e-37, 1.0000000e+00],\n",
       "       [1.2317947e-17, 1.0000000e+00],\n",
       "       [1.0000000e+00, 8.1607023e-09]], dtype=float32)"
      ]
     },
     "execution_count": 130,
     "metadata": {},
     "output_type": "execute_result"
    }
   ],
   "source": [
    "predictions"
   ]
  },
  {
   "cell_type": "code",
   "execution_count": 132,
   "id": "3e855767",
   "metadata": {},
   "outputs": [
    {
     "data": {
      "text/plain": [
       "array([[1., 0.],\n",
       "       [0., 1.],\n",
       "       [0., 1.],\n",
       "       [1., 0.]], dtype=float32)"
      ]
     },
     "execution_count": 132,
     "metadata": {},
     "output_type": "execute_result"
    }
   ],
   "source": [
    "predictions.round(5)"
   ]
  },
  {
   "cell_type": "code",
   "execution_count": 128,
   "id": "dfd018ed",
   "metadata": {},
   "outputs": [
    {
     "data": {
      "text/plain": [
       "array([[1, 0],\n",
       "       [0, 1],\n",
       "       [0, 1],\n",
       "       [1, 0]])"
      ]
     },
     "execution_count": 128,
     "metadata": {},
     "output_type": "execute_result"
    }
   ],
   "source": [
    "data_outputs"
   ]
  }
 ],
 "metadata": {
  "kernelspec": {
   "display_name": "Python 3 (ipykernel)",
   "language": "python",
   "name": "python3"
  },
  "language_info": {
   "codemirror_mode": {
    "name": "ipython",
    "version": 3
   },
   "file_extension": ".py",
   "mimetype": "text/x-python",
   "name": "python",
   "nbconvert_exporter": "python",
   "pygments_lexer": "ipython3",
   "version": "3.10.6"
  }
 },
 "nbformat": 4,
 "nbformat_minor": 5
}
